{
 "cells": [
  {
   "cell_type": "code",
   "execution_count": 31,
   "id": "initial_id",
   "metadata": {
    "collapsed": true,
    "ExecuteTime": {
     "end_time": "2024-03-20T16:04:33.202790Z",
     "start_time": "2024-03-20T16:04:33.194144Z"
    }
   },
   "outputs": [],
   "source": [
    "import matplotlib.pyplot as plt\n",
    "import numpy as np\n",
    "import pandas as pd\n",
    "import seaborn as sns\n",
    "import yfinance as yf\n",
    "\n",
    "sns.set_theme(style=\"white\")\n"
   ]
  },
  {
   "cell_type": "code",
   "outputs": [],
   "source": [
    "SET50 = pd.read_csv(\"assets/set50data.csv\")\n",
    "SET50[\"Date\"] = pd.to_datetime(SET50[\"Date\"], format=\"%m/%d/%Y\")\n",
    "SET50[\"Date\"] = SET50[\"Date\"].dt.strftime(\"%Y-%m-%d\")\n",
    "SET50[\"Open\"] = SET50[\"Open\"].str.replace(\",\", \"\").astype(float)\n"
   ],
   "metadata": {
    "collapsed": false,
    "ExecuteTime": {
     "end_time": "2024-03-20T16:04:33.215361Z",
     "start_time": "2024-03-20T16:04:33.205728Z"
    }
   },
   "id": "a8999348ea0d06af",
   "execution_count": 32
  },
  {
   "cell_type": "code",
   "outputs": [
    {
     "data": {
      "text/plain": "            Date     Price     Open      High       Low   Vol. Change %\n1019  2020-01-08  1,057.19  1063.94  1,066.77  1,054.24  1.97B   -1.66%\n1020  2020-01-07  1,075.07  1071.20  1,075.20  1,062.78  1.58B    1.06%\n1021  2020-01-06  1,063.83  1072.49  1,074.50  1,061.17  2.03B   -1.45%\n1022  2020-01-03  1,079.50  1081.12  1,086.71  1,077.32  1.48B   -0.14%\n1023  2020-01-02  1,081.00  1072.36  1,083.41  1,071.16  1.75B    1.17%",
      "text/html": "<div>\n<style scoped>\n    .dataframe tbody tr th:only-of-type {\n        vertical-align: middle;\n    }\n\n    .dataframe tbody tr th {\n        vertical-align: top;\n    }\n\n    .dataframe thead th {\n        text-align: right;\n    }\n</style>\n<table border=\"1\" class=\"dataframe\">\n  <thead>\n    <tr style=\"text-align: right;\">\n      <th></th>\n      <th>Date</th>\n      <th>Price</th>\n      <th>Open</th>\n      <th>High</th>\n      <th>Low</th>\n      <th>Vol.</th>\n      <th>Change %</th>\n    </tr>\n  </thead>\n  <tbody>\n    <tr>\n      <th>1019</th>\n      <td>2020-01-08</td>\n      <td>1,057.19</td>\n      <td>1063.94</td>\n      <td>1,066.77</td>\n      <td>1,054.24</td>\n      <td>1.97B</td>\n      <td>-1.66%</td>\n    </tr>\n    <tr>\n      <th>1020</th>\n      <td>2020-01-07</td>\n      <td>1,075.07</td>\n      <td>1071.20</td>\n      <td>1,075.20</td>\n      <td>1,062.78</td>\n      <td>1.58B</td>\n      <td>1.06%</td>\n    </tr>\n    <tr>\n      <th>1021</th>\n      <td>2020-01-06</td>\n      <td>1,063.83</td>\n      <td>1072.49</td>\n      <td>1,074.50</td>\n      <td>1,061.17</td>\n      <td>2.03B</td>\n      <td>-1.45%</td>\n    </tr>\n    <tr>\n      <th>1022</th>\n      <td>2020-01-03</td>\n      <td>1,079.50</td>\n      <td>1081.12</td>\n      <td>1,086.71</td>\n      <td>1,077.32</td>\n      <td>1.48B</td>\n      <td>-0.14%</td>\n    </tr>\n    <tr>\n      <th>1023</th>\n      <td>2020-01-02</td>\n      <td>1,081.00</td>\n      <td>1072.36</td>\n      <td>1,083.41</td>\n      <td>1,071.16</td>\n      <td>1.75B</td>\n      <td>1.17%</td>\n    </tr>\n  </tbody>\n</table>\n</div>"
     },
     "execution_count": 33,
     "metadata": {},
     "output_type": "execute_result"
    }
   ],
   "source": [
    "SET50.tail()"
   ],
   "metadata": {
    "collapsed": false,
    "ExecuteTime": {
     "end_time": "2024-03-20T16:04:33.220417Z",
     "start_time": "2024-03-20T16:04:33.216440Z"
    }
   },
   "id": "e316066a83f99dfc",
   "execution_count": 33
  },
  {
   "cell_type": "code",
   "outputs": [],
   "source": [
    "SP500_TICKER = yf.Ticker(\"^GSPC\")\n",
    "SP500 = SP500_TICKER.history(period=\"3Y\")\n",
    "SP500.reset_index(inplace=True)\n",
    "SP500[\"Date\"] = SP500[\"Date\"].dt.strftime(\"%Y-%m-%d\")"
   ],
   "metadata": {
    "collapsed": false,
    "ExecuteTime": {
     "end_time": "2024-03-20T16:04:33.427151Z",
     "start_time": "2024-03-20T16:04:33.221737Z"
    }
   },
   "id": "b874ae8ecab3b1",
   "execution_count": 34
  },
  {
   "cell_type": "code",
   "outputs": [
    {
     "data": {
      "text/plain": "         Date         Open         High          Low        Close      Volume  \\\n0  2021-03-22  3916.479980  3955.310059  3914.159912  3940.590088  4316260000   \n1  2021-03-23  3937.600098  3949.129883  3901.570068  3910.520020  4669010000   \n2  2021-03-24  3919.929932  3942.080078  3889.070068  3889.139893  4783020000   \n3  2021-03-25  3879.340088  3919.540039  3853.500000  3909.520020  4948340000   \n4  2021-03-26  3917.120117  3978.189941  3917.120117  3974.540039  5483160000   \n\n   Dividends  Stock Splits  \n0        0.0           0.0  \n1        0.0           0.0  \n2        0.0           0.0  \n3        0.0           0.0  \n4        0.0           0.0  ",
      "text/html": "<div>\n<style scoped>\n    .dataframe tbody tr th:only-of-type {\n        vertical-align: middle;\n    }\n\n    .dataframe tbody tr th {\n        vertical-align: top;\n    }\n\n    .dataframe thead th {\n        text-align: right;\n    }\n</style>\n<table border=\"1\" class=\"dataframe\">\n  <thead>\n    <tr style=\"text-align: right;\">\n      <th></th>\n      <th>Date</th>\n      <th>Open</th>\n      <th>High</th>\n      <th>Low</th>\n      <th>Close</th>\n      <th>Volume</th>\n      <th>Dividends</th>\n      <th>Stock Splits</th>\n    </tr>\n  </thead>\n  <tbody>\n    <tr>\n      <th>0</th>\n      <td>2021-03-22</td>\n      <td>3916.479980</td>\n      <td>3955.310059</td>\n      <td>3914.159912</td>\n      <td>3940.590088</td>\n      <td>4316260000</td>\n      <td>0.0</td>\n      <td>0.0</td>\n    </tr>\n    <tr>\n      <th>1</th>\n      <td>2021-03-23</td>\n      <td>3937.600098</td>\n      <td>3949.129883</td>\n      <td>3901.570068</td>\n      <td>3910.520020</td>\n      <td>4669010000</td>\n      <td>0.0</td>\n      <td>0.0</td>\n    </tr>\n    <tr>\n      <th>2</th>\n      <td>2021-03-24</td>\n      <td>3919.929932</td>\n      <td>3942.080078</td>\n      <td>3889.070068</td>\n      <td>3889.139893</td>\n      <td>4783020000</td>\n      <td>0.0</td>\n      <td>0.0</td>\n    </tr>\n    <tr>\n      <th>3</th>\n      <td>2021-03-25</td>\n      <td>3879.340088</td>\n      <td>3919.540039</td>\n      <td>3853.500000</td>\n      <td>3909.520020</td>\n      <td>4948340000</td>\n      <td>0.0</td>\n      <td>0.0</td>\n    </tr>\n    <tr>\n      <th>4</th>\n      <td>2021-03-26</td>\n      <td>3917.120117</td>\n      <td>3978.189941</td>\n      <td>3917.120117</td>\n      <td>3974.540039</td>\n      <td>5483160000</td>\n      <td>0.0</td>\n      <td>0.0</td>\n    </tr>\n  </tbody>\n</table>\n</div>"
     },
     "execution_count": 35,
     "metadata": {},
     "output_type": "execute_result"
    }
   ],
   "source": [
    "SP500.head()"
   ],
   "metadata": {
    "collapsed": false,
    "ExecuteTime": {
     "end_time": "2024-03-20T16:04:33.432235Z",
     "start_time": "2024-03-20T16:04:33.427887Z"
    }
   },
   "id": "2838f8f1dd718560",
   "execution_count": 35
  },
  {
   "cell_type": "code",
   "outputs": [],
   "source": [
    "SET_TICKER = yf.Ticker(\"^SET.BK\")\n",
    "SET = SET_TICKER.history(period=\"3Y\")\n",
    "SET.reset_index(inplace=True)\n",
    "SET[\"Date\"] = SET[\"Date\"].dt.strftime(\"%Y-%m-%d\")"
   ],
   "metadata": {
    "collapsed": false,
    "ExecuteTime": {
     "end_time": "2024-03-20T16:04:33.498779Z",
     "start_time": "2024-03-20T16:04:33.433255Z"
    }
   },
   "id": "6aa538d85bb3ee06",
   "execution_count": 36
  },
  {
   "cell_type": "code",
   "outputs": [
    {
     "data": {
      "text/plain": "         Date         Open         High          Low        Close    Volume  \\\n0  2021-03-22  1563.560059  1571.739990  1555.380005  1566.359985   9179700   \n1  2021-03-23  1572.699951  1574.140015  1562.030029  1564.250000  11706200   \n2  2021-03-24  1557.500000  1570.839966  1555.719971  1570.829956  12329000   \n3  2021-03-25  1576.270020  1580.170044  1571.040039  1571.040039  12229700   \n4  2021-03-26  1577.469971  1580.739990  1566.890015  1574.859985  11133500   \n\n   Dividends  Stock Splits  \n0        0.0           0.0  \n1        0.0           0.0  \n2        0.0           0.0  \n3        0.0           0.0  \n4        0.0           0.0  ",
      "text/html": "<div>\n<style scoped>\n    .dataframe tbody tr th:only-of-type {\n        vertical-align: middle;\n    }\n\n    .dataframe tbody tr th {\n        vertical-align: top;\n    }\n\n    .dataframe thead th {\n        text-align: right;\n    }\n</style>\n<table border=\"1\" class=\"dataframe\">\n  <thead>\n    <tr style=\"text-align: right;\">\n      <th></th>\n      <th>Date</th>\n      <th>Open</th>\n      <th>High</th>\n      <th>Low</th>\n      <th>Close</th>\n      <th>Volume</th>\n      <th>Dividends</th>\n      <th>Stock Splits</th>\n    </tr>\n  </thead>\n  <tbody>\n    <tr>\n      <th>0</th>\n      <td>2021-03-22</td>\n      <td>1563.560059</td>\n      <td>1571.739990</td>\n      <td>1555.380005</td>\n      <td>1566.359985</td>\n      <td>9179700</td>\n      <td>0.0</td>\n      <td>0.0</td>\n    </tr>\n    <tr>\n      <th>1</th>\n      <td>2021-03-23</td>\n      <td>1572.699951</td>\n      <td>1574.140015</td>\n      <td>1562.030029</td>\n      <td>1564.250000</td>\n      <td>11706200</td>\n      <td>0.0</td>\n      <td>0.0</td>\n    </tr>\n    <tr>\n      <th>2</th>\n      <td>2021-03-24</td>\n      <td>1557.500000</td>\n      <td>1570.839966</td>\n      <td>1555.719971</td>\n      <td>1570.829956</td>\n      <td>12329000</td>\n      <td>0.0</td>\n      <td>0.0</td>\n    </tr>\n    <tr>\n      <th>3</th>\n      <td>2021-03-25</td>\n      <td>1576.270020</td>\n      <td>1580.170044</td>\n      <td>1571.040039</td>\n      <td>1571.040039</td>\n      <td>12229700</td>\n      <td>0.0</td>\n      <td>0.0</td>\n    </tr>\n    <tr>\n      <th>4</th>\n      <td>2021-03-26</td>\n      <td>1577.469971</td>\n      <td>1580.739990</td>\n      <td>1566.890015</td>\n      <td>1574.859985</td>\n      <td>11133500</td>\n      <td>0.0</td>\n      <td>0.0</td>\n    </tr>\n  </tbody>\n</table>\n</div>"
     },
     "execution_count": 37,
     "metadata": {},
     "output_type": "execute_result"
    }
   ],
   "source": [
    "SET.head()"
   ],
   "metadata": {
    "collapsed": false,
    "ExecuteTime": {
     "end_time": "2024-03-20T16:04:33.504082Z",
     "start_time": "2024-03-20T16:04:33.499724Z"
    }
   },
   "id": "e21d30756290616f",
   "execution_count": 37
  },
  {
   "cell_type": "code",
   "outputs": [],
   "source": [
    "NI225_TICKER = yf.Ticker(\"^N225\")\n",
    "NI225 = NI225_TICKER.history(period=\"3Y\")\n",
    "NI225.reset_index(inplace=True)\n",
    "NI225[\"Date\"] = NI225[\"Date\"].dt.strftime(\"%Y-%m-%d\")"
   ],
   "metadata": {
    "collapsed": false,
    "ExecuteTime": {
     "end_time": "2024-03-20T16:04:33.564762Z",
     "start_time": "2024-03-20T16:04:33.504748Z"
    }
   },
   "id": "2ede090762003e72",
   "execution_count": 38
  },
  {
   "cell_type": "code",
   "outputs": [
    {
     "data": {
      "text/plain": "         Date          Open          High           Low         Close  \\\n0  2021-03-19  29904.570312  30049.769531  29621.220703  29792.050781   \n1  2021-03-22  29444.099609  29472.980469  29107.630859  29174.150391   \n2  2021-03-23  29381.490234  29496.830078  28995.919922  28995.919922   \n3  2021-03-24  28765.550781  28867.669922  28379.060547  28405.519531   \n4  2021-03-25  28457.330078  28821.830078  28414.919922  28729.880859   \n\n      Volume  Dividends  Stock Splits  \n0  128500000        0.0           0.0  \n1   78800000        0.0           0.0  \n2   79200000        0.0           0.0  \n3   96000000        0.0           0.0  \n4   72800000        0.0           0.0  ",
      "text/html": "<div>\n<style scoped>\n    .dataframe tbody tr th:only-of-type {\n        vertical-align: middle;\n    }\n\n    .dataframe tbody tr th {\n        vertical-align: top;\n    }\n\n    .dataframe thead th {\n        text-align: right;\n    }\n</style>\n<table border=\"1\" class=\"dataframe\">\n  <thead>\n    <tr style=\"text-align: right;\">\n      <th></th>\n      <th>Date</th>\n      <th>Open</th>\n      <th>High</th>\n      <th>Low</th>\n      <th>Close</th>\n      <th>Volume</th>\n      <th>Dividends</th>\n      <th>Stock Splits</th>\n    </tr>\n  </thead>\n  <tbody>\n    <tr>\n      <th>0</th>\n      <td>2021-03-19</td>\n      <td>29904.570312</td>\n      <td>30049.769531</td>\n      <td>29621.220703</td>\n      <td>29792.050781</td>\n      <td>128500000</td>\n      <td>0.0</td>\n      <td>0.0</td>\n    </tr>\n    <tr>\n      <th>1</th>\n      <td>2021-03-22</td>\n      <td>29444.099609</td>\n      <td>29472.980469</td>\n      <td>29107.630859</td>\n      <td>29174.150391</td>\n      <td>78800000</td>\n      <td>0.0</td>\n      <td>0.0</td>\n    </tr>\n    <tr>\n      <th>2</th>\n      <td>2021-03-23</td>\n      <td>29381.490234</td>\n      <td>29496.830078</td>\n      <td>28995.919922</td>\n      <td>28995.919922</td>\n      <td>79200000</td>\n      <td>0.0</td>\n      <td>0.0</td>\n    </tr>\n    <tr>\n      <th>3</th>\n      <td>2021-03-24</td>\n      <td>28765.550781</td>\n      <td>28867.669922</td>\n      <td>28379.060547</td>\n      <td>28405.519531</td>\n      <td>96000000</td>\n      <td>0.0</td>\n      <td>0.0</td>\n    </tr>\n    <tr>\n      <th>4</th>\n      <td>2021-03-25</td>\n      <td>28457.330078</td>\n      <td>28821.830078</td>\n      <td>28414.919922</td>\n      <td>28729.880859</td>\n      <td>72800000</td>\n      <td>0.0</td>\n      <td>0.0</td>\n    </tr>\n  </tbody>\n</table>\n</div>"
     },
     "execution_count": 39,
     "metadata": {},
     "output_type": "execute_result"
    }
   ],
   "source": [
    "NI225.head()"
   ],
   "metadata": {
    "collapsed": false,
    "ExecuteTime": {
     "end_time": "2024-03-20T16:04:33.570292Z",
     "start_time": "2024-03-20T16:04:33.565433Z"
    }
   },
   "id": "f1d644cdf723001f",
   "execution_count": 39
  },
  {
   "cell_type": "code",
   "outputs": [],
   "source": [
    "CSI300_TICKER = yf.Ticker(\"000300.SS\")\n",
    "CSI300 = CSI300_TICKER.history(period=\"3Y\")\n",
    "CSI300.reset_index(inplace=True)\n",
    "CSI300[\"Date\"] = CSI300[\"Date\"].dt.strftime(\"%Y-%m-%d\")"
   ],
   "metadata": {
    "collapsed": false,
    "ExecuteTime": {
     "end_time": "2024-03-20T16:04:33.633097Z",
     "start_time": "2024-03-20T16:04:33.572498Z"
    }
   },
   "id": "60235f1dd825b33b",
   "execution_count": 40
  },
  {
   "cell_type": "code",
   "outputs": [
    {
     "data": {
      "text/plain": "         Date         Open         High          Low        Close  Volume  \\\n0  2021-03-22  5008.399902  5071.339844  4996.540039  5057.149902  167400   \n1  2021-03-23  5057.060059  5064.020020  4966.529785  5009.250000  158000   \n2  2021-03-24  4985.399902  5024.330078  4919.890137  4928.689941  159400   \n3  2021-03-25  4904.069824  4950.759766  4883.660156  4926.350098  132900   \n4  2021-03-26  4953.950195  5050.830078  4953.950195  5037.990234  145900   \n\n   Dividends  Stock Splits  \n0        0.0           0.0  \n1        0.0           0.0  \n2        0.0           0.0  \n3        0.0           0.0  \n4        0.0           0.0  ",
      "text/html": "<div>\n<style scoped>\n    .dataframe tbody tr th:only-of-type {\n        vertical-align: middle;\n    }\n\n    .dataframe tbody tr th {\n        vertical-align: top;\n    }\n\n    .dataframe thead th {\n        text-align: right;\n    }\n</style>\n<table border=\"1\" class=\"dataframe\">\n  <thead>\n    <tr style=\"text-align: right;\">\n      <th></th>\n      <th>Date</th>\n      <th>Open</th>\n      <th>High</th>\n      <th>Low</th>\n      <th>Close</th>\n      <th>Volume</th>\n      <th>Dividends</th>\n      <th>Stock Splits</th>\n    </tr>\n  </thead>\n  <tbody>\n    <tr>\n      <th>0</th>\n      <td>2021-03-22</td>\n      <td>5008.399902</td>\n      <td>5071.339844</td>\n      <td>4996.540039</td>\n      <td>5057.149902</td>\n      <td>167400</td>\n      <td>0.0</td>\n      <td>0.0</td>\n    </tr>\n    <tr>\n      <th>1</th>\n      <td>2021-03-23</td>\n      <td>5057.060059</td>\n      <td>5064.020020</td>\n      <td>4966.529785</td>\n      <td>5009.250000</td>\n      <td>158000</td>\n      <td>0.0</td>\n      <td>0.0</td>\n    </tr>\n    <tr>\n      <th>2</th>\n      <td>2021-03-24</td>\n      <td>4985.399902</td>\n      <td>5024.330078</td>\n      <td>4919.890137</td>\n      <td>4928.689941</td>\n      <td>159400</td>\n      <td>0.0</td>\n      <td>0.0</td>\n    </tr>\n    <tr>\n      <th>3</th>\n      <td>2021-03-25</td>\n      <td>4904.069824</td>\n      <td>4950.759766</td>\n      <td>4883.660156</td>\n      <td>4926.350098</td>\n      <td>132900</td>\n      <td>0.0</td>\n      <td>0.0</td>\n    </tr>\n    <tr>\n      <th>4</th>\n      <td>2021-03-26</td>\n      <td>4953.950195</td>\n      <td>5050.830078</td>\n      <td>4953.950195</td>\n      <td>5037.990234</td>\n      <td>145900</td>\n      <td>0.0</td>\n      <td>0.0</td>\n    </tr>\n  </tbody>\n</table>\n</div>"
     },
     "execution_count": 41,
     "metadata": {},
     "output_type": "execute_result"
    }
   ],
   "source": [
    "CSI300.head()"
   ],
   "metadata": {
    "collapsed": false,
    "ExecuteTime": {
     "end_time": "2024-03-20T16:04:33.638831Z",
     "start_time": "2024-03-20T16:04:33.634100Z"
    }
   },
   "id": "e2a1575b2b8e353f",
   "execution_count": 41
  },
  {
   "cell_type": "code",
   "outputs": [
    {
     "data": {
      "text/plain": "<Axes: >"
     },
     "execution_count": 42,
     "metadata": {},
     "output_type": "execute_result"
    },
    {
     "data": {
      "text/plain": "<Figure size 1000x1000 with 2 Axes>",
      "image/png": "[encoded data removed]"
     },
     "metadata": {},
     "output_type": "display_data"
    }
   ],
   "source": [
    "df = pd.merge(SET50, SET, on=\"Date\", suffixes=(\"_SET50\", \"_SET\"))\n",
    "df = df.merge(SP500.add_suffix(\"_SP500\"), left_on=\"Date\", right_on=\"Date_SP500\")\n",
    "df = df.merge(NI225.add_suffix(\"_NI225\"), left_on=\"Date\", right_on=\"Date_NI225\")\n",
    "df = df.merge(CSI300.add_suffix(\"_CSI300\"), left_on=\"Date\", right_on=\"Date_CSI300\")\n",
    "\n",
    "corr = df[[\"Open_SET50\", \"Open_SET\", \"Open_SP500\", \"Open_NI225\", \"Open_CSI300\"]].corr()\n",
    "mask = np.triu(corr)\n",
    "f, ax = plt.subplots(figsize=(10, 10))\n",
    "cmap = sns.color_palette(\"RdBu\")\n",
    "\n",
    "sns.heatmap(corr,\n",
    "            mask=mask,\n",
    "            cmap=cmap,\n",
    "            vmax=1,\n",
    "            vmin=-1,\n",
    "            center=0,\n",
    "            square=True,\n",
    "            linewidths=3,\n",
    "            cbar_kws={\"shrink\": .5}\n",
    "            )"
   ],
   "metadata": {
    "collapsed": false,
    "ExecuteTime": {
     "end_time": "2024-03-20T16:04:33.767503Z",
     "start_time": "2024-03-20T16:04:33.639690Z"
    }
   },
   "id": "ae697419a42d9e73",
   "execution_count": 42
  }
 ],
 "metadata": {
  "kernelspec": {
   "display_name": "Python 3",
   "language": "python",
   "name": "python3"
  },
  "language_info": {
   "codemirror_mode": {
    "name": "ipython",
    "version": 2
   },
   "file_extension": ".py",
   "mimetype": "text/x-python",
   "name": "python",
   "nbconvert_exporter": "python",
   "pygments_lexer": "ipython2",
   "version": "2.7.6"
  }
 },
 "nbformat": 4,
 "nbformat_minor": 5
}
